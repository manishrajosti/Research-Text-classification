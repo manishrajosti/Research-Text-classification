{
 "cells": [
  {
   "cell_type": "code",
   "execution_count": 2,
   "metadata": {},
   "outputs": [
    {
     "name": "stdout",
     "output_type": "stream",
     "text": [
      "Requirement already satisfied: plotly in ./myclassify/lib/python3.8/site-packages (5.7.0)\n",
      "Requirement already satisfied: six in ./myclassify/lib/python3.8/site-packages (from plotly) (1.16.0)\n",
      "Requirement already satisfied: tenacity>=6.2.0 in ./myclassify/lib/python3.8/site-packages (from plotly) (8.0.1)\n",
      "Note: you may need to restart the kernel to use updated packages.\n",
      "Requirement already satisfied: nltk in ./myclassify/lib/python3.8/site-packages (3.7)\n",
      "Requirement already satisfied: click in ./myclassify/lib/python3.8/site-packages (from nltk) (8.1.2)\n",
      "Requirement already satisfied: regex>=2021.8.3 in ./myclassify/lib/python3.8/site-packages (from nltk) (2022.3.15)\n",
      "Requirement already satisfied: tqdm in ./myclassify/lib/python3.8/site-packages (from nltk) (4.64.0)\n",
      "Requirement already satisfied: joblib in ./myclassify/lib/python3.8/site-packages (from nltk) (1.1.0)\n",
      "Note: you may need to restart the kernel to use updated packages.\n",
      "Collecting tensorflow\n",
      "  Using cached tensorflow-2.8.0-cp38-cp38-manylinux2010_x86_64.whl (497.6 MB)\n",
      "Requirement already satisfied: h5py>=2.9.0 in ./myclassify/lib/python3.8/site-packages (from tensorflow) (3.6.0)\n",
      "Requirement already satisfied: typing-extensions>=3.6.6 in ./myclassify/lib/python3.8/site-packages (from tensorflow) (4.1.1)\n",
      "Requirement already satisfied: termcolor>=1.1.0 in ./myclassify/lib/python3.8/site-packages (from tensorflow) (1.1.0)\n",
      "Requirement already satisfied: grpcio<2.0,>=1.24.3 in ./myclassify/lib/python3.8/site-packages (from tensorflow) (1.44.0)\n",
      "Requirement already satisfied: opt-einsum>=2.3.2 in ./myclassify/lib/python3.8/site-packages (from tensorflow) (3.3.0)\n",
      "Requirement already satisfied: tensorflow-io-gcs-filesystem>=0.23.1 in ./myclassify/lib/python3.8/site-packages (from tensorflow) (0.24.0)\n",
      "Requirement already satisfied: six>=1.12.0 in ./myclassify/lib/python3.8/site-packages (from tensorflow) (1.16.0)\n",
      "Requirement already satisfied: google-pasta>=0.1.1 in ./myclassify/lib/python3.8/site-packages (from tensorflow) (0.2.0)\n",
      "Requirement already satisfied: gast>=0.2.1 in ./myclassify/lib/python3.8/site-packages (from tensorflow) (0.5.3)\n",
      "Requirement already satisfied: absl-py>=0.4.0 in ./myclassify/lib/python3.8/site-packages (from tensorflow) (1.0.0)\n",
      "Requirement already satisfied: libclang>=9.0.1 in ./myclassify/lib/python3.8/site-packages (from tensorflow) (13.0.0)\n",
      "Requirement already satisfied: flatbuffers>=1.12 in ./myclassify/lib/python3.8/site-packages (from tensorflow) (2.0)\n",
      "Requirement already satisfied: wrapt>=1.11.0 in ./myclassify/lib/python3.8/site-packages (from tensorflow) (1.14.0)\n",
      "Requirement already satisfied: keras<2.9,>=2.8.0rc0 in ./myclassify/lib/python3.8/site-packages (from tensorflow) (2.8.0)\n",
      "Requirement already satisfied: keras-preprocessing>=1.1.1 in ./myclassify/lib/python3.8/site-packages (from tensorflow) (1.1.2)\n",
      "Requirement already satisfied: protobuf>=3.9.2 in ./myclassify/lib/python3.8/site-packages (from tensorflow) (3.20.0)\n",
      "Requirement already satisfied: tf-estimator-nightly==2.8.0.dev2021122109 in ./myclassify/lib/python3.8/site-packages (from tensorflow) (2.8.0.dev2021122109)\n",
      "Requirement already satisfied: numpy>=1.20 in ./myclassify/lib/python3.8/site-packages (from tensorflow) (1.22.3)\n",
      "Requirement already satisfied: setuptools in ./myclassify/lib/python3.8/site-packages (from tensorflow) (59.5.0)\n",
      "Requirement already satisfied: astunparse>=1.6.0 in ./myclassify/lib/python3.8/site-packages (from tensorflow) (1.6.3)\n",
      "Requirement already satisfied: tensorboard<2.9,>=2.8 in ./myclassify/lib/python3.8/site-packages (from tensorflow) (2.8.0)\n",
      "Requirement already satisfied: wheel<1.0,>=0.23.0 in ./myclassify/lib/python3.8/site-packages (from astunparse>=1.6.0->tensorflow) (0.37.1)\n",
      "Requirement already satisfied: markdown>=2.6.8 in ./myclassify/lib/python3.8/site-packages (from tensorboard<2.9,>=2.8->tensorflow) (3.3.6)\n",
      "Requirement already satisfied: werkzeug>=0.11.15 in ./myclassify/lib/python3.8/site-packages (from tensorboard<2.9,>=2.8->tensorflow) (2.1.1)\n",
      "Requirement already satisfied: tensorboard-plugin-wit>=1.6.0 in ./myclassify/lib/python3.8/site-packages (from tensorboard<2.9,>=2.8->tensorflow) (1.8.1)\n",
      "Requirement already satisfied: requests<3,>=2.21.0 in ./myclassify/lib/python3.8/site-packages (from tensorboard<2.9,>=2.8->tensorflow) (2.27.1)\n",
      "Requirement already satisfied: tensorboard-data-server<0.7.0,>=0.6.0 in ./myclassify/lib/python3.8/site-packages (from tensorboard<2.9,>=2.8->tensorflow) (0.6.1)\n",
      "Requirement already satisfied: google-auth-oauthlib<0.5,>=0.4.1 in ./myclassify/lib/python3.8/site-packages (from tensorboard<2.9,>=2.8->tensorflow) (0.4.6)\n",
      "Requirement already satisfied: google-auth<3,>=1.6.3 in ./myclassify/lib/python3.8/site-packages (from tensorboard<2.9,>=2.8->tensorflow) (2.6.3)\n",
      "Requirement already satisfied: importlib-metadata>=4.4; python_version < \"3.10\" in ./myclassify/lib/python3.8/site-packages (from markdown>=2.6.8->tensorboard<2.9,>=2.8->tensorflow) (4.11.3)\n",
      "Requirement already satisfied: idna<4,>=2.5; python_version >= \"3\" in ./myclassify/lib/python3.8/site-packages (from requests<3,>=2.21.0->tensorboard<2.9,>=2.8->tensorflow) (3.3)\n",
      "Requirement already satisfied: certifi>=2017.4.17 in ./myclassify/lib/python3.8/site-packages (from requests<3,>=2.21.0->tensorboard<2.9,>=2.8->tensorflow) (2021.10.8)\n",
      "Requirement already satisfied: urllib3<1.27,>=1.21.1 in ./myclassify/lib/python3.8/site-packages (from requests<3,>=2.21.0->tensorboard<2.9,>=2.8->tensorflow) (1.26.9)\n",
      "Requirement already satisfied: charset-normalizer~=2.0.0; python_version >= \"3\" in ./myclassify/lib/python3.8/site-packages (from requests<3,>=2.21.0->tensorboard<2.9,>=2.8->tensorflow) (2.0.12)\n",
      "Requirement already satisfied: requests-oauthlib>=0.7.0 in ./myclassify/lib/python3.8/site-packages (from google-auth-oauthlib<0.5,>=0.4.1->tensorboard<2.9,>=2.8->tensorflow) (1.3.1)\n",
      "Requirement already satisfied: pyasn1-modules>=0.2.1 in ./myclassify/lib/python3.8/site-packages (from google-auth<3,>=1.6.3->tensorboard<2.9,>=2.8->tensorflow) (0.2.8)\n",
      "Requirement already satisfied: cachetools<6.0,>=2.0.0 in ./myclassify/lib/python3.8/site-packages (from google-auth<3,>=1.6.3->tensorboard<2.9,>=2.8->tensorflow) (5.0.0)\n",
      "Requirement already satisfied: rsa<5,>=3.1.4; python_version >= \"3.6\" in ./myclassify/lib/python3.8/site-packages (from google-auth<3,>=1.6.3->tensorboard<2.9,>=2.8->tensorflow) (4.8)\n",
      "Requirement already satisfied: zipp>=0.5 in ./myclassify/lib/python3.8/site-packages (from importlib-metadata>=4.4; python_version < \"3.10\"->markdown>=2.6.8->tensorboard<2.9,>=2.8->tensorflow) (3.8.0)\n",
      "Requirement already satisfied: oauthlib>=3.0.0 in ./myclassify/lib/python3.8/site-packages (from requests-oauthlib>=0.7.0->google-auth-oauthlib<0.5,>=0.4.1->tensorboard<2.9,>=2.8->tensorflow) (3.2.0)\n",
      "Requirement already satisfied: pyasn1<0.5.0,>=0.4.6 in ./myclassify/lib/python3.8/site-packages (from pyasn1-modules>=0.2.1->google-auth<3,>=1.6.3->tensorboard<2.9,>=2.8->tensorflow) (0.4.8)\n",
      "Installing collected packages: tensorflow\n",
      "Successfully installed tensorflow-2.8.0\n",
      "Note: you may need to restart the kernel to use updated packages.\n",
      "Requirement already satisfied: seaborn in ./myclassify/lib/python3.8/site-packages (0.11.2)\n",
      "Requirement already satisfied: numpy>=1.15 in ./myclassify/lib/python3.8/site-packages (from seaborn) (1.22.3)\n",
      "Requirement already satisfied: scipy>=1.0 in ./myclassify/lib/python3.8/site-packages (from seaborn) (1.8.0)\n",
      "Requirement already satisfied: matplotlib>=2.2 in ./myclassify/lib/python3.8/site-packages (from seaborn) (3.5.1)\n",
      "Requirement already satisfied: pandas>=0.23 in ./myclassify/lib/python3.8/site-packages (from seaborn) (1.4.2)\n",
      "Requirement already satisfied: fonttools>=4.22.0 in ./myclassify/lib/python3.8/site-packages (from matplotlib>=2.2->seaborn) (4.32.0)\n",
      "Requirement already satisfied: pillow>=6.2.0 in ./myclassify/lib/python3.8/site-packages (from matplotlib>=2.2->seaborn) (9.1.0)\n",
      "Requirement already satisfied: cycler>=0.10 in ./myclassify/lib/python3.8/site-packages (from matplotlib>=2.2->seaborn) (0.11.0)\n",
      "Requirement already satisfied: packaging>=20.0 in ./myclassify/lib/python3.8/site-packages (from matplotlib>=2.2->seaborn) (21.3)\n",
      "Requirement already satisfied: kiwisolver>=1.0.1 in ./myclassify/lib/python3.8/site-packages (from matplotlib>=2.2->seaborn) (1.4.2)\n",
      "Requirement already satisfied: pyparsing>=2.2.1 in ./myclassify/lib/python3.8/site-packages (from matplotlib>=2.2->seaborn) (3.0.8)\n",
      "Requirement already satisfied: python-dateutil>=2.7 in ./myclassify/lib/python3.8/site-packages (from matplotlib>=2.2->seaborn) (2.8.2)\n",
      "Requirement already satisfied: pytz>=2020.1 in ./myclassify/lib/python3.8/site-packages (from pandas>=0.23->seaborn) (2022.1)\n",
      "Requirement already satisfied: six>=1.5 in ./myclassify/lib/python3.8/site-packages (from python-dateutil>=2.7->matplotlib>=2.2->seaborn) (1.16.0)\n",
      "Note: you may need to restart the kernel to use updated packages.\n",
      "Requirement already satisfied: sklearn in ./myclassify/lib/python3.8/site-packages (0.0)\n",
      "Requirement already satisfied: scikit-learn in ./myclassify/lib/python3.8/site-packages (from sklearn) (1.0.2)\n",
      "Requirement already satisfied: joblib>=0.11 in ./myclassify/lib/python3.8/site-packages (from scikit-learn->sklearn) (1.1.0)\n",
      "Requirement already satisfied: threadpoolctl>=2.0.0 in ./myclassify/lib/python3.8/site-packages (from scikit-learn->sklearn) (3.1.0)\n",
      "Requirement already satisfied: numpy>=1.14.6 in ./myclassify/lib/python3.8/site-packages (from scikit-learn->sklearn) (1.22.3)\n",
      "Requirement already satisfied: scipy>=1.1.0 in ./myclassify/lib/python3.8/site-packages (from scikit-learn->sklearn) (1.8.0)\n",
      "Note: you may need to restart the kernel to use updated packages.\n",
      "Requirement already satisfied: pandas in ./myclassify/lib/python3.8/site-packages (1.4.2)\n",
      "Requirement already satisfied: numpy>=1.18.5; platform_machine != \"aarch64\" and platform_machine != \"arm64\" and python_version < \"3.10\" in ./myclassify/lib/python3.8/site-packages (from pandas) (1.22.3)\n",
      "Requirement already satisfied: python-dateutil>=2.8.1 in ./myclassify/lib/python3.8/site-packages (from pandas) (2.8.2)\n",
      "Requirement already satisfied: pytz>=2020.1 in ./myclassify/lib/python3.8/site-packages (from pandas) (2022.1)\n",
      "Requirement already satisfied: six>=1.5 in ./myclassify/lib/python3.8/site-packages (from python-dateutil>=2.8.1->pandas) (1.16.0)\n",
      "Note: you may need to restart the kernel to use updated packages.\n",
      "Requirement already satisfied: cufflinks in ./myclassify/lib/python3.8/site-packages (0.17.3)\n",
      "Requirement already satisfied: numpy>=1.9.2 in ./myclassify/lib/python3.8/site-packages (from cufflinks) (1.22.3)\n",
      "Requirement already satisfied: colorlover>=0.2.1 in ./myclassify/lib/python3.8/site-packages (from cufflinks) (0.3.0)\n",
      "Requirement already satisfied: ipywidgets>=7.0.0 in ./myclassify/lib/python3.8/site-packages (from cufflinks) (7.7.0)\n",
      "Requirement already satisfied: setuptools>=34.4.1 in ./myclassify/lib/python3.8/site-packages (from cufflinks) (59.5.0)\n",
      "Requirement already satisfied: plotly>=4.1.1 in ./myclassify/lib/python3.8/site-packages (from cufflinks) (5.7.0)\n",
      "Requirement already satisfied: six>=1.9.0 in ./myclassify/lib/python3.8/site-packages (from cufflinks) (1.16.0)\n",
      "Requirement already satisfied: pandas>=0.19.2 in ./myclassify/lib/python3.8/site-packages (from cufflinks) (1.4.2)\n",
      "Requirement already satisfied: ipython>=5.3.0 in ./myclassify/lib/python3.8/site-packages (from cufflinks) (8.2.0)\n",
      "Requirement already satisfied: ipython-genutils~=0.2.0 in ./myclassify/lib/python3.8/site-packages (from ipywidgets>=7.0.0->cufflinks) (0.2.0)\n",
      "Requirement already satisfied: widgetsnbextension~=3.6.0 in ./myclassify/lib/python3.8/site-packages (from ipywidgets>=7.0.0->cufflinks) (3.6.0)\n",
      "Requirement already satisfied: nbformat>=4.2.0 in ./myclassify/lib/python3.8/site-packages (from ipywidgets>=7.0.0->cufflinks) (5.3.0)\n",
      "Requirement already satisfied: jupyterlab-widgets>=1.0.0; python_version >= \"3.6\" in ./myclassify/lib/python3.8/site-packages (from ipywidgets>=7.0.0->cufflinks) (1.1.0)\n",
      "Requirement already satisfied: ipykernel>=4.5.1 in ./myclassify/lib/python3.8/site-packages (from ipywidgets>=7.0.0->cufflinks) (6.13.0)\n",
      "Requirement already satisfied: traitlets>=4.3.1 in ./myclassify/lib/python3.8/site-packages (from ipywidgets>=7.0.0->cufflinks) (5.1.1)\n",
      "Requirement already satisfied: tenacity>=6.2.0 in ./myclassify/lib/python3.8/site-packages (from plotly>=4.1.1->cufflinks) (8.0.1)\n",
      "Requirement already satisfied: pytz>=2020.1 in ./myclassify/lib/python3.8/site-packages (from pandas>=0.19.2->cufflinks) (2022.1)\n",
      "Requirement already satisfied: python-dateutil>=2.8.1 in ./myclassify/lib/python3.8/site-packages (from pandas>=0.19.2->cufflinks) (2.8.2)\n",
      "Requirement already satisfied: matplotlib-inline in ./myclassify/lib/python3.8/site-packages (from ipython>=5.3.0->cufflinks) (0.1.3)\n",
      "Requirement already satisfied: jedi>=0.16 in ./myclassify/lib/python3.8/site-packages (from ipython>=5.3.0->cufflinks) (0.18.1)\n",
      "Requirement already satisfied: decorator in ./myclassify/lib/python3.8/site-packages (from ipython>=5.3.0->cufflinks) (5.1.1)\n",
      "Requirement already satisfied: stack-data in ./myclassify/lib/python3.8/site-packages (from ipython>=5.3.0->cufflinks) (0.2.0)\n",
      "Requirement already satisfied: pygments>=2.4.0 in ./myclassify/lib/python3.8/site-packages (from ipython>=5.3.0->cufflinks) (2.11.2)\n",
      "Requirement already satisfied: prompt-toolkit!=3.0.0,!=3.0.1,<3.1.0,>=2.0.0 in ./myclassify/lib/python3.8/site-packages (from ipython>=5.3.0->cufflinks) (3.0.29)\n",
      "Requirement already satisfied: pickleshare in ./myclassify/lib/python3.8/site-packages (from ipython>=5.3.0->cufflinks) (0.7.5)\n",
      "Requirement already satisfied: pexpect>4.3; sys_platform != \"win32\" in ./myclassify/lib/python3.8/site-packages (from ipython>=5.3.0->cufflinks) (4.8.0)\n",
      "Requirement already satisfied: backcall in ./myclassify/lib/python3.8/site-packages (from ipython>=5.3.0->cufflinks) (0.2.0)\n",
      "Requirement already satisfied: notebook>=4.4.1 in ./myclassify/lib/python3.8/site-packages (from widgetsnbextension~=3.6.0->ipywidgets>=7.0.0->cufflinks) (6.4.10)\n",
      "Requirement already satisfied: jsonschema>=2.6 in ./myclassify/lib/python3.8/site-packages (from nbformat>=4.2.0->ipywidgets>=7.0.0->cufflinks) (4.4.0)\n",
      "Requirement already satisfied: fastjsonschema in ./myclassify/lib/python3.8/site-packages (from nbformat>=4.2.0->ipywidgets>=7.0.0->cufflinks) (2.15.3)\n",
      "Requirement already satisfied: jupyter-core in ./myclassify/lib/python3.8/site-packages (from nbformat>=4.2.0->ipywidgets>=7.0.0->cufflinks) (4.9.2)\n",
      "Requirement already satisfied: psutil in ./myclassify/lib/python3.8/site-packages (from ipykernel>=4.5.1->ipywidgets>=7.0.0->cufflinks) (5.9.0)\n",
      "Requirement already satisfied: nest-asyncio in ./myclassify/lib/python3.8/site-packages (from ipykernel>=4.5.1->ipywidgets>=7.0.0->cufflinks) (1.5.5)\n",
      "Requirement already satisfied: packaging in ./myclassify/lib/python3.8/site-packages (from ipykernel>=4.5.1->ipywidgets>=7.0.0->cufflinks) (21.3)\n",
      "Requirement already satisfied: tornado>=6.1 in ./myclassify/lib/python3.8/site-packages (from ipykernel>=4.5.1->ipywidgets>=7.0.0->cufflinks) (6.1)\n",
      "Requirement already satisfied: debugpy>=1.0 in ./myclassify/lib/python3.8/site-packages (from ipykernel>=4.5.1->ipywidgets>=7.0.0->cufflinks) (1.6.0)\n",
      "Requirement already satisfied: jupyter-client>=6.1.12 in ./myclassify/lib/python3.8/site-packages (from ipykernel>=4.5.1->ipywidgets>=7.0.0->cufflinks) (7.2.2)\n",
      "Requirement already satisfied: parso<0.9.0,>=0.8.0 in ./myclassify/lib/python3.8/site-packages (from jedi>=0.16->ipython>=5.3.0->cufflinks) (0.8.3)\n",
      "Requirement already satisfied: executing in ./myclassify/lib/python3.8/site-packages (from stack-data->ipython>=5.3.0->cufflinks) (0.8.3)\n",
      "Requirement already satisfied: pure-eval in ./myclassify/lib/python3.8/site-packages (from stack-data->ipython>=5.3.0->cufflinks) (0.2.2)\n",
      "Requirement already satisfied: asttokens in ./myclassify/lib/python3.8/site-packages (from stack-data->ipython>=5.3.0->cufflinks) (2.0.5)\n",
      "Requirement already satisfied: wcwidth in ./myclassify/lib/python3.8/site-packages (from prompt-toolkit!=3.0.0,!=3.0.1,<3.1.0,>=2.0.0->ipython>=5.3.0->cufflinks) (0.2.5)\n",
      "Requirement already satisfied: ptyprocess>=0.5 in ./myclassify/lib/python3.8/site-packages (from pexpect>4.3; sys_platform != \"win32\"->ipython>=5.3.0->cufflinks) (0.7.0)\n",
      "Requirement already satisfied: Send2Trash>=1.8.0 in ./myclassify/lib/python3.8/site-packages (from notebook>=4.4.1->widgetsnbextension~=3.6.0->ipywidgets>=7.0.0->cufflinks) (1.8.0)\n",
      "Requirement already satisfied: prometheus-client in ./myclassify/lib/python3.8/site-packages (from notebook>=4.4.1->widgetsnbextension~=3.6.0->ipywidgets>=7.0.0->cufflinks) (0.14.1)\n",
      "Requirement already satisfied: jinja2 in ./myclassify/lib/python3.8/site-packages (from notebook>=4.4.1->widgetsnbextension~=3.6.0->ipywidgets>=7.0.0->cufflinks) (3.1.1)\n",
      "Requirement already satisfied: nbconvert>=5 in ./myclassify/lib/python3.8/site-packages (from notebook>=4.4.1->widgetsnbextension~=3.6.0->ipywidgets>=7.0.0->cufflinks) (6.5.0)\n",
      "Requirement already satisfied: terminado>=0.8.3 in ./myclassify/lib/python3.8/site-packages (from notebook>=4.4.1->widgetsnbextension~=3.6.0->ipywidgets>=7.0.0->cufflinks) (0.13.3)\n",
      "Requirement already satisfied: pyzmq>=17 in ./myclassify/lib/python3.8/site-packages (from notebook>=4.4.1->widgetsnbextension~=3.6.0->ipywidgets>=7.0.0->cufflinks) (22.3.0)\n",
      "Requirement already satisfied: argon2-cffi in ./myclassify/lib/python3.8/site-packages (from notebook>=4.4.1->widgetsnbextension~=3.6.0->ipywidgets>=7.0.0->cufflinks) (21.3.0)\n",
      "Requirement already satisfied: pyrsistent!=0.17.0,!=0.17.1,!=0.17.2,>=0.14.0 in ./myclassify/lib/python3.8/site-packages (from jsonschema>=2.6->nbformat>=4.2.0->ipywidgets>=7.0.0->cufflinks) (0.18.1)\n",
      "Requirement already satisfied: importlib-resources>=1.4.0; python_version < \"3.9\" in ./myclassify/lib/python3.8/site-packages (from jsonschema>=2.6->nbformat>=4.2.0->ipywidgets>=7.0.0->cufflinks) (5.6.0)\n",
      "Requirement already satisfied: attrs>=17.4.0 in ./myclassify/lib/python3.8/site-packages (from jsonschema>=2.6->nbformat>=4.2.0->ipywidgets>=7.0.0->cufflinks) (21.4.0)\n",
      "Requirement already satisfied: pyparsing!=3.0.5,>=2.0.2 in ./myclassify/lib/python3.8/site-packages (from packaging->ipykernel>=4.5.1->ipywidgets>=7.0.0->cufflinks) (3.0.8)\n",
      "Requirement already satisfied: entrypoints in ./myclassify/lib/python3.8/site-packages (from jupyter-client>=6.1.12->ipykernel>=4.5.1->ipywidgets>=7.0.0->cufflinks) (0.4)\n",
      "Requirement already satisfied: MarkupSafe>=2.0 in ./myclassify/lib/python3.8/site-packages (from jinja2->notebook>=4.4.1->widgetsnbextension~=3.6.0->ipywidgets>=7.0.0->cufflinks) (2.1.1)\n",
      "Requirement already satisfied: bleach in ./myclassify/lib/python3.8/site-packages (from nbconvert>=5->notebook>=4.4.1->widgetsnbextension~=3.6.0->ipywidgets>=7.0.0->cufflinks) (5.0.0)\n",
      "Requirement already satisfied: mistune<2,>=0.8.1 in ./myclassify/lib/python3.8/site-packages (from nbconvert>=5->notebook>=4.4.1->widgetsnbextension~=3.6.0->ipywidgets>=7.0.0->cufflinks) (0.8.4)\n",
      "Requirement already satisfied: beautifulsoup4 in ./myclassify/lib/python3.8/site-packages (from nbconvert>=5->notebook>=4.4.1->widgetsnbextension~=3.6.0->ipywidgets>=7.0.0->cufflinks) (4.11.1)\n",
      "Requirement already satisfied: pandocfilters>=1.4.1 in ./myclassify/lib/python3.8/site-packages (from nbconvert>=5->notebook>=4.4.1->widgetsnbextension~=3.6.0->ipywidgets>=7.0.0->cufflinks) (1.5.0)\n",
      "Requirement already satisfied: nbclient>=0.5.0 in ./myclassify/lib/python3.8/site-packages (from nbconvert>=5->notebook>=4.4.1->widgetsnbextension~=3.6.0->ipywidgets>=7.0.0->cufflinks) (0.5.13)\n",
      "Requirement already satisfied: defusedxml in ./myclassify/lib/python3.8/site-packages (from nbconvert>=5->notebook>=4.4.1->widgetsnbextension~=3.6.0->ipywidgets>=7.0.0->cufflinks) (0.7.1)\n",
      "Requirement already satisfied: tinycss2 in ./myclassify/lib/python3.8/site-packages (from nbconvert>=5->notebook>=4.4.1->widgetsnbextension~=3.6.0->ipywidgets>=7.0.0->cufflinks) (1.1.1)\n",
      "Requirement already satisfied: jupyterlab-pygments in ./myclassify/lib/python3.8/site-packages (from nbconvert>=5->notebook>=4.4.1->widgetsnbextension~=3.6.0->ipywidgets>=7.0.0->cufflinks) (0.2.0)\n",
      "Requirement already satisfied: argon2-cffi-bindings in ./myclassify/lib/python3.8/site-packages (from argon2-cffi->notebook>=4.4.1->widgetsnbextension~=3.6.0->ipywidgets>=7.0.0->cufflinks) (21.2.0)\n",
      "Requirement already satisfied: zipp>=3.1.0; python_version < \"3.10\" in ./myclassify/lib/python3.8/site-packages (from importlib-resources>=1.4.0; python_version < \"3.9\"->jsonschema>=2.6->nbformat>=4.2.0->ipywidgets>=7.0.0->cufflinks) (3.8.0)\n",
      "Requirement already satisfied: webencodings in ./myclassify/lib/python3.8/site-packages (from bleach->nbconvert>=5->notebook>=4.4.1->widgetsnbextension~=3.6.0->ipywidgets>=7.0.0->cufflinks) (0.5.1)\n",
      "Requirement already satisfied: soupsieve>1.2 in ./myclassify/lib/python3.8/site-packages (from beautifulsoup4->nbconvert>=5->notebook>=4.4.1->widgetsnbextension~=3.6.0->ipywidgets>=7.0.0->cufflinks) (2.3.2)\n",
      "Requirement already satisfied: cffi>=1.0.1 in ./myclassify/lib/python3.8/site-packages (from argon2-cffi-bindings->argon2-cffi->notebook>=4.4.1->widgetsnbextension~=3.6.0->ipywidgets>=7.0.0->cufflinks) (1.15.0)\n",
      "Requirement already satisfied: pycparser in ./myclassify/lib/python3.8/site-packages (from cffi>=1.0.1->argon2-cffi-bindings->argon2-cffi->notebook>=4.4.1->widgetsnbextension~=3.6.0->ipywidgets>=7.0.0->cufflinks) (2.21)\n",
      "Note: you may need to restart the kernel to use updated packages.\n",
      "Requirement already satisfied: jupyterlab in ./myclassify/lib/python3.8/site-packages (3.3.3)\n",
      "Requirement already satisfied: nbclassic~=0.2 in ./myclassify/lib/python3.8/site-packages (from jupyterlab) (0.3.7)\n",
      "Requirement already satisfied: ipython in ./myclassify/lib/python3.8/site-packages (from jupyterlab) (8.2.0)\n",
      "Requirement already satisfied: jupyter-server~=1.4 in ./myclassify/lib/python3.8/site-packages (from jupyterlab) (1.16.0)\n",
      "Requirement already satisfied: packaging in ./myclassify/lib/python3.8/site-packages (from jupyterlab) (21.3)\n",
      "Requirement already satisfied: jinja2>=2.1 in ./myclassify/lib/python3.8/site-packages (from jupyterlab) (3.1.1)\n",
      "Requirement already satisfied: jupyterlab-server~=2.10 in ./myclassify/lib/python3.8/site-packages (from jupyterlab) (2.12.0)\n",
      "Requirement already satisfied: tornado>=6.1.0 in ./myclassify/lib/python3.8/site-packages (from jupyterlab) (6.1)\n",
      "Requirement already satisfied: jupyter-core in ./myclassify/lib/python3.8/site-packages (from jupyterlab) (4.9.2)\n",
      "Requirement already satisfied: notebook-shim>=0.1.0 in ./myclassify/lib/python3.8/site-packages (from nbclassic~=0.2->jupyterlab) (0.1.0)\n",
      "Requirement already satisfied: notebook<7 in ./myclassify/lib/python3.8/site-packages (from nbclassic~=0.2->jupyterlab) (6.4.10)\n",
      "Requirement already satisfied: matplotlib-inline in ./myclassify/lib/python3.8/site-packages (from ipython->jupyterlab) (0.1.3)\n",
      "Requirement already satisfied: decorator in ./myclassify/lib/python3.8/site-packages (from ipython->jupyterlab) (5.1.1)\n",
      "Requirement already satisfied: pickleshare in ./myclassify/lib/python3.8/site-packages (from ipython->jupyterlab) (0.7.5)\n",
      "Requirement already satisfied: stack-data in ./myclassify/lib/python3.8/site-packages (from ipython->jupyterlab) (0.2.0)\n",
      "Requirement already satisfied: backcall in ./myclassify/lib/python3.8/site-packages (from ipython->jupyterlab) (0.2.0)\n",
      "Requirement already satisfied: pexpect>4.3; sys_platform != \"win32\" in ./myclassify/lib/python3.8/site-packages (from ipython->jupyterlab) (4.8.0)\n",
      "Requirement already satisfied: prompt-toolkit!=3.0.0,!=3.0.1,<3.1.0,>=2.0.0 in ./myclassify/lib/python3.8/site-packages (from ipython->jupyterlab) (3.0.29)\n",
      "Requirement already satisfied: pygments>=2.4.0 in ./myclassify/lib/python3.8/site-packages (from ipython->jupyterlab) (2.11.2)\n",
      "Requirement already satisfied: traitlets>=5 in ./myclassify/lib/python3.8/site-packages (from ipython->jupyterlab) (5.1.1)\n",
      "Requirement already satisfied: setuptools>=18.5 in ./myclassify/lib/python3.8/site-packages (from ipython->jupyterlab) (59.5.0)\n",
      "Requirement already satisfied: jedi>=0.16 in ./myclassify/lib/python3.8/site-packages (from ipython->jupyterlab) (0.18.1)\n",
      "Requirement already satisfied: argon2-cffi in ./myclassify/lib/python3.8/site-packages (from jupyter-server~=1.4->jupyterlab) (21.3.0)\n",
      "Requirement already satisfied: Send2Trash in ./myclassify/lib/python3.8/site-packages (from jupyter-server~=1.4->jupyterlab) (1.8.0)\n",
      "Requirement already satisfied: prometheus-client in ./myclassify/lib/python3.8/site-packages (from jupyter-server~=1.4->jupyterlab) (0.14.1)\n",
      "Requirement already satisfied: nbformat>=5.2.0 in ./myclassify/lib/python3.8/site-packages (from jupyter-server~=1.4->jupyterlab) (5.3.0)\n",
      "Requirement already satisfied: nbconvert>=6.4.4 in ./myclassify/lib/python3.8/site-packages (from jupyter-server~=1.4->jupyterlab) (6.5.0)\n",
      "Requirement already satisfied: jupyter-client>=6.1.12 in ./myclassify/lib/python3.8/site-packages (from jupyter-server~=1.4->jupyterlab) (7.2.2)\n",
      "Requirement already satisfied: pyzmq>=17 in ./myclassify/lib/python3.8/site-packages (from jupyter-server~=1.4->jupyterlab) (22.3.0)\n",
      "Requirement already satisfied: anyio>=3.1.0 in ./myclassify/lib/python3.8/site-packages (from jupyter-server~=1.4->jupyterlab) (3.5.0)\n",
      "Requirement already satisfied: websocket-client in ./myclassify/lib/python3.8/site-packages (from jupyter-server~=1.4->jupyterlab) (1.3.2)\n",
      "Requirement already satisfied: terminado>=0.8.3 in ./myclassify/lib/python3.8/site-packages (from jupyter-server~=1.4->jupyterlab) (0.13.3)\n",
      "Requirement already satisfied: pyparsing!=3.0.5,>=2.0.2 in ./myclassify/lib/python3.8/site-packages (from packaging->jupyterlab) (3.0.8)\n",
      "Requirement already satisfied: MarkupSafe>=2.0 in ./myclassify/lib/python3.8/site-packages (from jinja2>=2.1->jupyterlab) (2.1.1)\n",
      "Requirement already satisfied: requests in ./myclassify/lib/python3.8/site-packages (from jupyterlab-server~=2.10->jupyterlab) (2.27.1)\n",
      "Requirement already satisfied: jsonschema>=3.0.1 in ./myclassify/lib/python3.8/site-packages (from jupyterlab-server~=2.10->jupyterlab) (4.4.0)\n",
      "Requirement already satisfied: entrypoints>=0.2.2 in ./myclassify/lib/python3.8/site-packages (from jupyterlab-server~=2.10->jupyterlab) (0.4)\n",
      "Requirement already satisfied: babel in ./myclassify/lib/python3.8/site-packages (from jupyterlab-server~=2.10->jupyterlab) (2.9.1)\n",
      "Requirement already satisfied: json5 in ./myclassify/lib/python3.8/site-packages (from jupyterlab-server~=2.10->jupyterlab) (0.9.6)\n",
      "Requirement already satisfied: ipython-genutils in ./myclassify/lib/python3.8/site-packages (from notebook<7->nbclassic~=0.2->jupyterlab) (0.2.0)\n",
      "Requirement already satisfied: ipykernel in ./myclassify/lib/python3.8/site-packages (from notebook<7->nbclassic~=0.2->jupyterlab) (6.13.0)\n",
      "Requirement already satisfied: nest-asyncio>=1.5 in ./myclassify/lib/python3.8/site-packages (from notebook<7->nbclassic~=0.2->jupyterlab) (1.5.5)\n",
      "Requirement already satisfied: pure-eval in ./myclassify/lib/python3.8/site-packages (from stack-data->ipython->jupyterlab) (0.2.2)\n",
      "Requirement already satisfied: executing in ./myclassify/lib/python3.8/site-packages (from stack-data->ipython->jupyterlab) (0.8.3)\n",
      "Requirement already satisfied: asttokens in ./myclassify/lib/python3.8/site-packages (from stack-data->ipython->jupyterlab) (2.0.5)\n",
      "Requirement already satisfied: ptyprocess>=0.5 in ./myclassify/lib/python3.8/site-packages (from pexpect>4.3; sys_platform != \"win32\"->ipython->jupyterlab) (0.7.0)\n",
      "Requirement already satisfied: wcwidth in ./myclassify/lib/python3.8/site-packages (from prompt-toolkit!=3.0.0,!=3.0.1,<3.1.0,>=2.0.0->ipython->jupyterlab) (0.2.5)\n",
      "Requirement already satisfied: parso<0.9.0,>=0.8.0 in ./myclassify/lib/python3.8/site-packages (from jedi>=0.16->ipython->jupyterlab) (0.8.3)\n",
      "Requirement already satisfied: argon2-cffi-bindings in ./myclassify/lib/python3.8/site-packages (from argon2-cffi->jupyter-server~=1.4->jupyterlab) (21.2.0)\n",
      "Requirement already satisfied: fastjsonschema in ./myclassify/lib/python3.8/site-packages (from nbformat>=5.2.0->jupyter-server~=1.4->jupyterlab) (2.15.3)\n",
      "Requirement already satisfied: defusedxml in ./myclassify/lib/python3.8/site-packages (from nbconvert>=6.4.4->jupyter-server~=1.4->jupyterlab) (0.7.1)\n",
      "Requirement already satisfied: bleach in ./myclassify/lib/python3.8/site-packages (from nbconvert>=6.4.4->jupyter-server~=1.4->jupyterlab) (5.0.0)\n",
      "Requirement already satisfied: pandocfilters>=1.4.1 in ./myclassify/lib/python3.8/site-packages (from nbconvert>=6.4.4->jupyter-server~=1.4->jupyterlab) (1.5.0)\n",
      "Requirement already satisfied: tinycss2 in ./myclassify/lib/python3.8/site-packages (from nbconvert>=6.4.4->jupyter-server~=1.4->jupyterlab) (1.1.1)\n",
      "Requirement already satisfied: jupyterlab-pygments in ./myclassify/lib/python3.8/site-packages (from nbconvert>=6.4.4->jupyter-server~=1.4->jupyterlab) (0.2.0)\n",
      "Requirement already satisfied: beautifulsoup4 in ./myclassify/lib/python3.8/site-packages (from nbconvert>=6.4.4->jupyter-server~=1.4->jupyterlab) (4.11.1)\n",
      "Requirement already satisfied: mistune<2,>=0.8.1 in ./myclassify/lib/python3.8/site-packages (from nbconvert>=6.4.4->jupyter-server~=1.4->jupyterlab) (0.8.4)\n",
      "Requirement already satisfied: nbclient>=0.5.0 in ./myclassify/lib/python3.8/site-packages (from nbconvert>=6.4.4->jupyter-server~=1.4->jupyterlab) (0.5.13)\n",
      "Requirement already satisfied: python-dateutil>=2.8.2 in ./myclassify/lib/python3.8/site-packages (from jupyter-client>=6.1.12->jupyter-server~=1.4->jupyterlab) (2.8.2)\n",
      "Requirement already satisfied: sniffio>=1.1 in ./myclassify/lib/python3.8/site-packages (from anyio>=3.1.0->jupyter-server~=1.4->jupyterlab) (1.2.0)\n",
      "Requirement already satisfied: idna>=2.8 in ./myclassify/lib/python3.8/site-packages (from anyio>=3.1.0->jupyter-server~=1.4->jupyterlab) (3.3)\n",
      "Requirement already satisfied: urllib3<1.27,>=1.21.1 in ./myclassify/lib/python3.8/site-packages (from requests->jupyterlab-server~=2.10->jupyterlab) (1.26.9)\n",
      "Requirement already satisfied: certifi>=2017.4.17 in ./myclassify/lib/python3.8/site-packages (from requests->jupyterlab-server~=2.10->jupyterlab) (2021.10.8)\n",
      "Requirement already satisfied: charset-normalizer~=2.0.0; python_version >= \"3\" in ./myclassify/lib/python3.8/site-packages (from requests->jupyterlab-server~=2.10->jupyterlab) (2.0.12)\n",
      "Requirement already satisfied: pyrsistent!=0.17.0,!=0.17.1,!=0.17.2,>=0.14.0 in ./myclassify/lib/python3.8/site-packages (from jsonschema>=3.0.1->jupyterlab-server~=2.10->jupyterlab) (0.18.1)\n",
      "Requirement already satisfied: importlib-resources>=1.4.0; python_version < \"3.9\" in ./myclassify/lib/python3.8/site-packages (from jsonschema>=3.0.1->jupyterlab-server~=2.10->jupyterlab) (5.6.0)\n",
      "Requirement already satisfied: attrs>=17.4.0 in ./myclassify/lib/python3.8/site-packages (from jsonschema>=3.0.1->jupyterlab-server~=2.10->jupyterlab) (21.4.0)\n",
      "Requirement already satisfied: pytz>=2015.7 in ./myclassify/lib/python3.8/site-packages (from babel->jupyterlab-server~=2.10->jupyterlab) (2022.1)\n",
      "Requirement already satisfied: psutil in ./myclassify/lib/python3.8/site-packages (from ipykernel->notebook<7->nbclassic~=0.2->jupyterlab) (5.9.0)\n",
      "Requirement already satisfied: debugpy>=1.0 in ./myclassify/lib/python3.8/site-packages (from ipykernel->notebook<7->nbclassic~=0.2->jupyterlab) (1.6.0)\n",
      "Requirement already satisfied: six in ./myclassify/lib/python3.8/site-packages (from asttokens->stack-data->ipython->jupyterlab) (1.16.0)\n",
      "Requirement already satisfied: cffi>=1.0.1 in ./myclassify/lib/python3.8/site-packages (from argon2-cffi-bindings->argon2-cffi->jupyter-server~=1.4->jupyterlab) (1.15.0)\n",
      "Requirement already satisfied: webencodings in ./myclassify/lib/python3.8/site-packages (from bleach->nbconvert>=6.4.4->jupyter-server~=1.4->jupyterlab) (0.5.1)\n",
      "Requirement already satisfied: soupsieve>1.2 in ./myclassify/lib/python3.8/site-packages (from beautifulsoup4->nbconvert>=6.4.4->jupyter-server~=1.4->jupyterlab) (2.3.2)\n",
      "Requirement already satisfied: zipp>=3.1.0; python_version < \"3.10\" in ./myclassify/lib/python3.8/site-packages (from importlib-resources>=1.4.0; python_version < \"3.9\"->jsonschema>=3.0.1->jupyterlab-server~=2.10->jupyterlab) (3.8.0)\n",
      "Requirement already satisfied: pycparser in ./myclassify/lib/python3.8/site-packages (from cffi>=1.0.1->argon2-cffi-bindings->argon2-cffi->jupyter-server~=1.4->jupyterlab) (2.21)\n",
      "Note: you may need to restart the kernel to use updated packages.\n",
      "Requirement already satisfied: ipywidgets in ./myclassify/lib/python3.8/site-packages (7.7.0)\n",
      "Requirement already satisfied: ipython>=4.0.0; python_version >= \"3.3\" in ./myclassify/lib/python3.8/site-packages (from ipywidgets) (8.2.0)\n",
      "Requirement already satisfied: jupyterlab-widgets>=1.0.0; python_version >= \"3.6\" in ./myclassify/lib/python3.8/site-packages (from ipywidgets) (1.1.0)\n",
      "Requirement already satisfied: nbformat>=4.2.0 in ./myclassify/lib/python3.8/site-packages (from ipywidgets) (5.3.0)\n",
      "Requirement already satisfied: ipython-genutils~=0.2.0 in ./myclassify/lib/python3.8/site-packages (from ipywidgets) (0.2.0)\n",
      "Requirement already satisfied: widgetsnbextension~=3.6.0 in ./myclassify/lib/python3.8/site-packages (from ipywidgets) (3.6.0)\n",
      "Requirement already satisfied: traitlets>=4.3.1 in ./myclassify/lib/python3.8/site-packages (from ipywidgets) (5.1.1)\n",
      "Requirement already satisfied: ipykernel>=4.5.1 in ./myclassify/lib/python3.8/site-packages (from ipywidgets) (6.13.0)\n",
      "Requirement already satisfied: stack-data in ./myclassify/lib/python3.8/site-packages (from ipython>=4.0.0; python_version >= \"3.3\"->ipywidgets) (0.2.0)\n",
      "Requirement already satisfied: backcall in ./myclassify/lib/python3.8/site-packages (from ipython>=4.0.0; python_version >= \"3.3\"->ipywidgets) (0.2.0)\n",
      "Requirement already satisfied: pexpect>4.3; sys_platform != \"win32\" in ./myclassify/lib/python3.8/site-packages (from ipython>=4.0.0; python_version >= \"3.3\"->ipywidgets) (4.8.0)\n",
      "Requirement already satisfied: pygments>=2.4.0 in ./myclassify/lib/python3.8/site-packages (from ipython>=4.0.0; python_version >= \"3.3\"->ipywidgets) (2.11.2)\n",
      "Requirement already satisfied: decorator in ./myclassify/lib/python3.8/site-packages (from ipython>=4.0.0; python_version >= \"3.3\"->ipywidgets) (5.1.1)\n",
      "Requirement already satisfied: prompt-toolkit!=3.0.0,!=3.0.1,<3.1.0,>=2.0.0 in ./myclassify/lib/python3.8/site-packages (from ipython>=4.0.0; python_version >= \"3.3\"->ipywidgets) (3.0.29)\n",
      "Requirement already satisfied: jedi>=0.16 in ./myclassify/lib/python3.8/site-packages (from ipython>=4.0.0; python_version >= \"3.3\"->ipywidgets) (0.18.1)\n",
      "Requirement already satisfied: pickleshare in ./myclassify/lib/python3.8/site-packages (from ipython>=4.0.0; python_version >= \"3.3\"->ipywidgets) (0.7.5)\n",
      "Requirement already satisfied: matplotlib-inline in ./myclassify/lib/python3.8/site-packages (from ipython>=4.0.0; python_version >= \"3.3\"->ipywidgets) (0.1.3)\n",
      "Requirement already satisfied: setuptools>=18.5 in ./myclassify/lib/python3.8/site-packages (from ipython>=4.0.0; python_version >= \"3.3\"->ipywidgets) (59.5.0)\n",
      "Requirement already satisfied: jupyter-core in ./myclassify/lib/python3.8/site-packages (from nbformat>=4.2.0->ipywidgets) (4.9.2)\n",
      "Requirement already satisfied: jsonschema>=2.6 in ./myclassify/lib/python3.8/site-packages (from nbformat>=4.2.0->ipywidgets) (4.4.0)\n",
      "Requirement already satisfied: fastjsonschema in ./myclassify/lib/python3.8/site-packages (from nbformat>=4.2.0->ipywidgets) (2.15.3)\n",
      "Requirement already satisfied: notebook>=4.4.1 in ./myclassify/lib/python3.8/site-packages (from widgetsnbextension~=3.6.0->ipywidgets) (6.4.10)\n",
      "Requirement already satisfied: nest-asyncio in ./myclassify/lib/python3.8/site-packages (from ipykernel>=4.5.1->ipywidgets) (1.5.5)\n",
      "Requirement already satisfied: tornado>=6.1 in ./myclassify/lib/python3.8/site-packages (from ipykernel>=4.5.1->ipywidgets) (6.1)\n",
      "Requirement already satisfied: jupyter-client>=6.1.12 in ./myclassify/lib/python3.8/site-packages (from ipykernel>=4.5.1->ipywidgets) (7.2.2)\n",
      "Requirement already satisfied: debugpy>=1.0 in ./myclassify/lib/python3.8/site-packages (from ipykernel>=4.5.1->ipywidgets) (1.6.0)\n",
      "Requirement already satisfied: psutil in ./myclassify/lib/python3.8/site-packages (from ipykernel>=4.5.1->ipywidgets) (5.9.0)\n",
      "Requirement already satisfied: packaging in ./myclassify/lib/python3.8/site-packages (from ipykernel>=4.5.1->ipywidgets) (21.3)\n",
      "Requirement already satisfied: executing in ./myclassify/lib/python3.8/site-packages (from stack-data->ipython>=4.0.0; python_version >= \"3.3\"->ipywidgets) (0.8.3)\n",
      "Requirement already satisfied: asttokens in ./myclassify/lib/python3.8/site-packages (from stack-data->ipython>=4.0.0; python_version >= \"3.3\"->ipywidgets) (2.0.5)\n",
      "Requirement already satisfied: pure-eval in ./myclassify/lib/python3.8/site-packages (from stack-data->ipython>=4.0.0; python_version >= \"3.3\"->ipywidgets) (0.2.2)\n",
      "Requirement already satisfied: ptyprocess>=0.5 in ./myclassify/lib/python3.8/site-packages (from pexpect>4.3; sys_platform != \"win32\"->ipython>=4.0.0; python_version >= \"3.3\"->ipywidgets) (0.7.0)\n",
      "Requirement already satisfied: wcwidth in ./myclassify/lib/python3.8/site-packages (from prompt-toolkit!=3.0.0,!=3.0.1,<3.1.0,>=2.0.0->ipython>=4.0.0; python_version >= \"3.3\"->ipywidgets) (0.2.5)\n",
      "Requirement already satisfied: parso<0.9.0,>=0.8.0 in ./myclassify/lib/python3.8/site-packages (from jedi>=0.16->ipython>=4.0.0; python_version >= \"3.3\"->ipywidgets) (0.8.3)\n",
      "Requirement already satisfied: importlib-resources>=1.4.0; python_version < \"3.9\" in ./myclassify/lib/python3.8/site-packages (from jsonschema>=2.6->nbformat>=4.2.0->ipywidgets) (5.6.0)\n",
      "Requirement already satisfied: pyrsistent!=0.17.0,!=0.17.1,!=0.17.2,>=0.14.0 in ./myclassify/lib/python3.8/site-packages (from jsonschema>=2.6->nbformat>=4.2.0->ipywidgets) (0.18.1)\n",
      "Requirement already satisfied: attrs>=17.4.0 in ./myclassify/lib/python3.8/site-packages (from jsonschema>=2.6->nbformat>=4.2.0->ipywidgets) (21.4.0)\n",
      "Requirement already satisfied: pyzmq>=17 in ./myclassify/lib/python3.8/site-packages (from notebook>=4.4.1->widgetsnbextension~=3.6.0->ipywidgets) (22.3.0)\n",
      "Requirement already satisfied: jinja2 in ./myclassify/lib/python3.8/site-packages (from notebook>=4.4.1->widgetsnbextension~=3.6.0->ipywidgets) (3.1.1)\n",
      "Requirement already satisfied: prometheus-client in ./myclassify/lib/python3.8/site-packages (from notebook>=4.4.1->widgetsnbextension~=3.6.0->ipywidgets) (0.14.1)\n",
      "Requirement already satisfied: nbconvert>=5 in ./myclassify/lib/python3.8/site-packages (from notebook>=4.4.1->widgetsnbextension~=3.6.0->ipywidgets) (6.5.0)\n",
      "Requirement already satisfied: terminado>=0.8.3 in ./myclassify/lib/python3.8/site-packages (from notebook>=4.4.1->widgetsnbextension~=3.6.0->ipywidgets) (0.13.3)\n",
      "Requirement already satisfied: argon2-cffi in ./myclassify/lib/python3.8/site-packages (from notebook>=4.4.1->widgetsnbextension~=3.6.0->ipywidgets) (21.3.0)\n",
      "Requirement already satisfied: Send2Trash>=1.8.0 in ./myclassify/lib/python3.8/site-packages (from notebook>=4.4.1->widgetsnbextension~=3.6.0->ipywidgets) (1.8.0)\n",
      "Requirement already satisfied: entrypoints in ./myclassify/lib/python3.8/site-packages (from jupyter-client>=6.1.12->ipykernel>=4.5.1->ipywidgets) (0.4)\n",
      "Requirement already satisfied: python-dateutil>=2.8.2 in ./myclassify/lib/python3.8/site-packages (from jupyter-client>=6.1.12->ipykernel>=4.5.1->ipywidgets) (2.8.2)\n",
      "Requirement already satisfied: pyparsing!=3.0.5,>=2.0.2 in ./myclassify/lib/python3.8/site-packages (from packaging->ipykernel>=4.5.1->ipywidgets) (3.0.8)\n",
      "Requirement already satisfied: six in ./myclassify/lib/python3.8/site-packages (from asttokens->stack-data->ipython>=4.0.0; python_version >= \"3.3\"->ipywidgets) (1.16.0)\n",
      "Requirement already satisfied: zipp>=3.1.0; python_version < \"3.10\" in ./myclassify/lib/python3.8/site-packages (from importlib-resources>=1.4.0; python_version < \"3.9\"->jsonschema>=2.6->nbformat>=4.2.0->ipywidgets) (3.8.0)\n",
      "Requirement already satisfied: MarkupSafe>=2.0 in ./myclassify/lib/python3.8/site-packages (from jinja2->notebook>=4.4.1->widgetsnbextension~=3.6.0->ipywidgets) (2.1.1)\n",
      "Requirement already satisfied: bleach in ./myclassify/lib/python3.8/site-packages (from nbconvert>=5->notebook>=4.4.1->widgetsnbextension~=3.6.0->ipywidgets) (5.0.0)\n",
      "Requirement already satisfied: pandocfilters>=1.4.1 in ./myclassify/lib/python3.8/site-packages (from nbconvert>=5->notebook>=4.4.1->widgetsnbextension~=3.6.0->ipywidgets) (1.5.0)\n",
      "Requirement already satisfied: beautifulsoup4 in ./myclassify/lib/python3.8/site-packages (from nbconvert>=5->notebook>=4.4.1->widgetsnbextension~=3.6.0->ipywidgets) (4.11.1)\n",
      "Requirement already satisfied: nbclient>=0.5.0 in ./myclassify/lib/python3.8/site-packages (from nbconvert>=5->notebook>=4.4.1->widgetsnbextension~=3.6.0->ipywidgets) (0.5.13)\n",
      "Requirement already satisfied: tinycss2 in ./myclassify/lib/python3.8/site-packages (from nbconvert>=5->notebook>=4.4.1->widgetsnbextension~=3.6.0->ipywidgets) (1.1.1)\n",
      "Requirement already satisfied: jupyterlab-pygments in ./myclassify/lib/python3.8/site-packages (from nbconvert>=5->notebook>=4.4.1->widgetsnbextension~=3.6.0->ipywidgets) (0.2.0)\n",
      "Requirement already satisfied: defusedxml in ./myclassify/lib/python3.8/site-packages (from nbconvert>=5->notebook>=4.4.1->widgetsnbextension~=3.6.0->ipywidgets) (0.7.1)\n",
      "Requirement already satisfied: mistune<2,>=0.8.1 in ./myclassify/lib/python3.8/site-packages (from nbconvert>=5->notebook>=4.4.1->widgetsnbextension~=3.6.0->ipywidgets) (0.8.4)\n",
      "Requirement already satisfied: argon2-cffi-bindings in ./myclassify/lib/python3.8/site-packages (from argon2-cffi->notebook>=4.4.1->widgetsnbextension~=3.6.0->ipywidgets) (21.2.0)\n",
      "Requirement already satisfied: webencodings in ./myclassify/lib/python3.8/site-packages (from bleach->nbconvert>=5->notebook>=4.4.1->widgetsnbextension~=3.6.0->ipywidgets) (0.5.1)\n",
      "Requirement already satisfied: soupsieve>1.2 in ./myclassify/lib/python3.8/site-packages (from beautifulsoup4->nbconvert>=5->notebook>=4.4.1->widgetsnbextension~=3.6.0->ipywidgets) (2.3.2)\n",
      "Requirement already satisfied: cffi>=1.0.1 in ./myclassify/lib/python3.8/site-packages (from argon2-cffi-bindings->argon2-cffi->notebook>=4.4.1->widgetsnbextension~=3.6.0->ipywidgets) (1.15.0)\n",
      "Requirement already satisfied: pycparser in ./myclassify/lib/python3.8/site-packages (from cffi>=1.0.1->argon2-cffi-bindings->argon2-cffi->notebook>=4.4.1->widgetsnbextension~=3.6.0->ipywidgets) (2.21)\n",
      "Note: you may need to restart the kernel to use updated packages.\n",
      "Requirement already satisfied: pydot in ./myclassify/lib/python3.8/site-packages (1.4.2)\n",
      "Requirement already satisfied: pyparsing>=2.1.4 in ./myclassify/lib/python3.8/site-packages (from pydot) (3.0.8)\n",
      "Note: you may need to restart the kernel to use updated packages.\n",
      "Requirement already satisfied: pillow in ./myclassify/lib/python3.8/site-packages (9.1.0)\n",
      "Note: you may need to restart the kernel to use updated packages.\n"
     ]
    }
   ],
   "source": [
    "%pip install plotly\n",
    "%pip install nltk\n",
    "%pip install tensorflow\n",
    "%pip install seaborn\n",
    "%pip install sklearn\n",
    "%pip install pandas\n",
    "%pip install cufflinks\n",
    "%pip install jupyterlab \n",
    "%pip install ipywidgets\n",
    "%pip install pydot\n",
    "%pip install pillow"
   ]
  },
  {
   "cell_type": "code",
   "execution_count": 1,
   "metadata": {},
   "outputs": [
    {
     "name": "stderr",
     "output_type": "stream",
     "text": [
      "[nltk_data] Downloading package stopwords to\n",
      "[nltk_data]     C:\\Users\\manis\\AppData\\Roaming\\nltk_data...\n",
      "[nltk_data]   Package stopwords is already up-to-date!\n"
     ]
    },
    {
     "data": {
      "text/html": [
       "        <script type=\"text/javascript\">\n",
       "        window.PlotlyConfig = {MathJaxConfig: 'local'};\n",
       "        if (window.MathJax) {MathJax.Hub.Config({SVG: {font: \"STIX-Web\"}});}\n",
       "        if (typeof require !== 'undefined') {\n",
       "        require.undef(\"plotly\");\n",
       "        requirejs.config({\n",
       "            paths: {\n",
       "                'plotly': ['https://cdn.plot.ly/plotly-2.9.0.min']\n",
       "            }\n",
       "        });\n",
       "        require(['plotly'], function(Plotly) {\n",
       "            window._Plotly = Plotly;\n",
       "        });\n",
       "        }\n",
       "        </script>\n",
       "        "
      ]
     },
     "metadata": {},
     "output_type": "display_data"
    }
   ],
   "source": [
    "import seaborn as sns\n",
    "import numpy as np\n",
    "import matplotlib.pyplot as plt\n",
    "from tensorflow.keras.preprocessing.text import Tokenizer\n",
    "from tensorflow.keras.preprocessing.sequence import pad_sequences\n",
    "import tensorflow as tf\n",
    "import time\n",
    "from datetime import date\n",
    "# Not supported in python 3.7 or above\n",
    "# from wordcloud import WordCloud, STOPWORDS\n",
    "import plotly.graph_objects as go\n",
    "import re\n",
    "# Natural Language Tool Kit\n",
    "import nltk\n",
    "nltk.download('stopwords')\n",
    "from nltk.corpus import stopwords\n",
    "from nltk.stem.porter import PorterStemmer\n",
    "from collections import Counter\n",
    "from sklearn.model_selection import train_test_split\n",
    "import cufflinks as cf\n",
    "import pandas as pd\n",
    "cf.go_offline()"
   ]
  },
  {
   "cell_type": "code",
   "execution_count": 35,
   "metadata": {},
   "outputs": [
    {
     "name": "stdout",
     "output_type": "stream",
     "text": [
      "Data shape (1371202, 4)\n",
      "Data shape (700000, 4)\n"
     ]
    }
   ],
   "source": [
    "data_df = pd.read_csv(\"data.csv\")\n",
    "print(f\"Data shape {data_df.shape}\")\n",
    "data = data_df.iloc[:700000,:]\n",
    "print(f\"Data shape {data.shape}\")"
   ]
  },
  {
   "cell_type": "code",
   "execution_count": 36,
   "metadata": {},
   "outputs": [
    {
     "data": {
      "text/plain": [
       "id               0\n",
       "location    212473\n",
       "text             0\n",
       "target           0\n",
       "dtype: int64"
      ]
     },
     "execution_count": 36,
     "metadata": {},
     "output_type": "execute_result"
    }
   ],
   "source": [
    "data.isna().sum()"
   ]
  },
  {
   "cell_type": "code",
   "execution_count": 37,
   "metadata": {},
   "outputs": [
    {
     "data": {
      "text/html": [
       "<div>\n",
       "<style scoped>\n",
       "    .dataframe tbody tr th:only-of-type {\n",
       "        vertical-align: middle;\n",
       "    }\n",
       "\n",
       "    .dataframe tbody tr th {\n",
       "        vertical-align: top;\n",
       "    }\n",
       "\n",
       "    .dataframe thead tr th {\n",
       "        text-align: left;\n",
       "    }\n",
       "\n",
       "    .dataframe thead tr:last-of-type th {\n",
       "        text-align: right;\n",
       "    }\n",
       "</style>\n",
       "<table border=\"1\" class=\"dataframe\">\n",
       "  <thead>\n",
       "    <tr>\n",
       "      <th></th>\n",
       "      <th colspan=\"8\" halign=\"left\">id</th>\n",
       "    </tr>\n",
       "    <tr>\n",
       "      <th></th>\n",
       "      <th>count</th>\n",
       "      <th>mean</th>\n",
       "      <th>std</th>\n",
       "      <th>min</th>\n",
       "      <th>25%</th>\n",
       "      <th>50%</th>\n",
       "      <th>75%</th>\n",
       "      <th>max</th>\n",
       "    </tr>\n",
       "    <tr>\n",
       "      <th>target</th>\n",
       "      <th></th>\n",
       "      <th></th>\n",
       "      <th></th>\n",
       "      <th></th>\n",
       "      <th></th>\n",
       "      <th></th>\n",
       "      <th></th>\n",
       "      <th></th>\n",
       "    </tr>\n",
       "  </thead>\n",
       "  <tbody>\n",
       "    <tr>\n",
       "      <th>0</th>\n",
       "      <td>289826.0</td>\n",
       "      <td>339472.879510</td>\n",
       "      <td>204157.121112</td>\n",
       "      <td>1.0</td>\n",
       "      <td>148268.25</td>\n",
       "      <td>325934.5</td>\n",
       "      <td>532997.50</td>\n",
       "      <td>699989.0</td>\n",
       "    </tr>\n",
       "    <tr>\n",
       "      <th>1</th>\n",
       "      <td>410174.0</td>\n",
       "      <td>357439.240964</td>\n",
       "      <td>200253.701834</td>\n",
       "      <td>2.0</td>\n",
       "      <td>194151.25</td>\n",
       "      <td>366021.5</td>\n",
       "      <td>520494.75</td>\n",
       "      <td>700000.0</td>\n",
       "    </tr>\n",
       "  </tbody>\n",
       "</table>\n",
       "</div>"
      ],
      "text/plain": [
       "              id                                                          \\\n",
       "           count           mean            std  min        25%       50%   \n",
       "target                                                                     \n",
       "0       289826.0  339472.879510  204157.121112  1.0  148268.25  325934.5   \n",
       "1       410174.0  357439.240964  200253.701834  2.0  194151.25  366021.5   \n",
       "\n",
       "                             \n",
       "              75%       max  \n",
       "target                       \n",
       "0       532997.50  699989.0  \n",
       "1       520494.75  700000.0  "
      ]
     },
     "execution_count": 37,
     "metadata": {},
     "output_type": "execute_result"
    }
   ],
   "source": [
    "# data = data.dropna()\n",
    "data.groupby('target').describe()"
   ]
  },
  {
   "cell_type": "code",
   "execution_count": 38,
   "metadata": {},
   "outputs": [
    {
     "data": {
      "text/plain": [
       "(289826, 4)"
      ]
     },
     "execution_count": 38,
     "metadata": {},
     "output_type": "execute_result"
    }
   ],
   "source": [
    "df_spam = data[data['target']==0]\n",
    "df_spam.shape"
   ]
  },
  {
   "cell_type": "code",
   "execution_count": 39,
   "metadata": {},
   "outputs": [
    {
     "data": {
      "text/plain": [
       "(410174, 4)"
      ]
     },
     "execution_count": 39,
     "metadata": {},
     "output_type": "execute_result"
    }
   ],
   "source": [
    "df_ham = data[data['target']==1]\n",
    "df_ham.shape"
   ]
  },
  {
   "cell_type": "code",
   "execution_count": 40,
   "metadata": {},
   "outputs": [
    {
     "data": {
      "text/plain": [
       "(289826, 4)"
      ]
     },
     "execution_count": 40,
     "metadata": {},
     "output_type": "execute_result"
    }
   ],
   "source": [
    "df_ham_downsampled = df_ham.sample(df_spam.shape[0])\n",
    "df_ham_downsampled.shape"
   ]
  },
  {
   "cell_type": "code",
   "execution_count": 41,
   "metadata": {},
   "outputs": [
    {
     "data": {
      "text/plain": [
       "(579652, 4)"
      ]
     },
     "execution_count": 41,
     "metadata": {},
     "output_type": "execute_result"
    }
   ],
   "source": [
    "df_balanced = pd.concat([df_ham_downsampled, df_spam])\n",
    "df_balanced.shape"
   ]
  },
  {
   "cell_type": "code",
   "execution_count": 42,
   "metadata": {},
   "outputs": [
    {
     "data": {
      "text/html": [
       "<div>\n",
       "<style scoped>\n",
       "    .dataframe tbody tr th:only-of-type {\n",
       "        vertical-align: middle;\n",
       "    }\n",
       "\n",
       "    .dataframe tbody tr th {\n",
       "        vertical-align: top;\n",
       "    }\n",
       "\n",
       "    .dataframe thead th {\n",
       "        text-align: right;\n",
       "    }\n",
       "</style>\n",
       "<table border=\"1\" class=\"dataframe\">\n",
       "  <thead>\n",
       "    <tr style=\"text-align: right;\">\n",
       "      <th></th>\n",
       "      <th>id</th>\n",
       "      <th>location</th>\n",
       "      <th>text</th>\n",
       "      <th>target</th>\n",
       "    </tr>\n",
       "  </thead>\n",
       "  <tbody>\n",
       "    <tr>\n",
       "      <th>555331</th>\n",
       "      <td>555332</td>\n",
       "      <td>United States of America</td>\n",
       "      <td>RT @outerspacemanII: Coronavirus in the U.S.: ...</td>\n",
       "      <td>1</td>\n",
       "    </tr>\n",
       "    <tr>\n",
       "      <th>72097</th>\n",
       "      <td>72098</td>\n",
       "      <td>Lynnwood, WA</td>\n",
       "      <td>RT @gruber: Geez, I wonder whose tinpot-dictat...</td>\n",
       "      <td>1</td>\n",
       "    </tr>\n",
       "    <tr>\n",
       "      <th>684454</th>\n",
       "      <td>684455</td>\n",
       "      <td>Quarantine zone, PNW</td>\n",
       "      <td>RT @GlennF: No correlation! No correlation! ht...</td>\n",
       "      <td>1</td>\n",
       "    </tr>\n",
       "    <tr>\n",
       "      <th>75005</th>\n",
       "      <td>75006</td>\n",
       "      <td>America</td>\n",
       "      <td>US stocks close mixed as virus drug report off...</td>\n",
       "      <td>1</td>\n",
       "    </tr>\n",
       "    <tr>\n",
       "      <th>473425</th>\n",
       "      <td>473426</td>\n",
       "      <td>Some Oversized Cafe, Somewhere</td>\n",
       "      <td>RT @vexwerewolf: Capitalists need to pay for t...</td>\n",
       "      <td>1</td>\n",
       "    </tr>\n",
       "    <tr>\n",
       "      <th>...</th>\n",
       "      <td>...</td>\n",
       "      <td>...</td>\n",
       "      <td>...</td>\n",
       "      <td>...</td>\n",
       "    </tr>\n",
       "    <tr>\n",
       "      <th>699972</th>\n",
       "      <td>699973</td>\n",
       "      <td>Sussex</td>\n",
       "      <td>RT @angelaeagle: Truly shocking that Govt woul...</td>\n",
       "      <td>0</td>\n",
       "    </tr>\n",
       "    <tr>\n",
       "      <th>699977</th>\n",
       "      <td>699978</td>\n",
       "      <td>NaN</td>\n",
       "      <td>RT @angelaeagle: Truly shocking that Govt woul...</td>\n",
       "      <td>0</td>\n",
       "    </tr>\n",
       "    <tr>\n",
       "      <th>699985</th>\n",
       "      <td>699986</td>\n",
       "      <td>Avon, Oxon, London, UK, Earth</td>\n",
       "      <td>When you think you can't get even a tiny bit m...</td>\n",
       "      <td>0</td>\n",
       "    </tr>\n",
       "    <tr>\n",
       "      <th>699986</th>\n",
       "      <td>699987</td>\n",
       "      <td>NaN</td>\n",
       "      <td>RT @guardiannews: Over 1,000 deaths a day: UK ...</td>\n",
       "      <td>0</td>\n",
       "    </tr>\n",
       "    <tr>\n",
       "      <th>699988</th>\n",
       "      <td>699989</td>\n",
       "      <td>NaN</td>\n",
       "      <td>RT @MarcosdavilaD: Vamos tomar sol pessoal!\\r\\...</td>\n",
       "      <td>0</td>\n",
       "    </tr>\n",
       "  </tbody>\n",
       "</table>\n",
       "<p>579652 rows × 4 columns</p>\n",
       "</div>"
      ],
      "text/plain": [
       "            id                        location  \\\n",
       "555331  555332        United States of America   \n",
       "72097    72098                    Lynnwood, WA   \n",
       "684454  684455            Quarantine zone, PNW   \n",
       "75005    75006                        America    \n",
       "473425  473426  Some Oversized Cafe, Somewhere   \n",
       "...        ...                             ...   \n",
       "699972  699973                          Sussex   \n",
       "699977  699978                             NaN   \n",
       "699985  699986   Avon, Oxon, London, UK, Earth   \n",
       "699986  699987                             NaN   \n",
       "699988  699989                             NaN   \n",
       "\n",
       "                                                     text  target  \n",
       "555331  RT @outerspacemanII: Coronavirus in the U.S.: ...       1  \n",
       "72097   RT @gruber: Geez, I wonder whose tinpot-dictat...       1  \n",
       "684454  RT @GlennF: No correlation! No correlation! ht...       1  \n",
       "75005   US stocks close mixed as virus drug report off...       1  \n",
       "473425  RT @vexwerewolf: Capitalists need to pay for t...       1  \n",
       "...                                                   ...     ...  \n",
       "699972  RT @angelaeagle: Truly shocking that Govt woul...       0  \n",
       "699977  RT @angelaeagle: Truly shocking that Govt woul...       0  \n",
       "699985  When you think you can't get even a tiny bit m...       0  \n",
       "699986  RT @guardiannews: Over 1,000 deaths a day: UK ...       0  \n",
       "699988  RT @MarcosdavilaD: Vamos tomar sol pessoal!\\r\\...       0  \n",
       "\n",
       "[579652 rows x 4 columns]"
      ]
     },
     "execution_count": 42,
     "metadata": {},
     "output_type": "execute_result"
    }
   ],
   "source": [
    "df_balanced['target'].value_counts()\n",
    "df_balanced"
   ]
  },
  {
   "cell_type": "code",
   "execution_count": 43,
   "metadata": {},
   "outputs": [
    {
     "data": {
      "text/html": [
       "<div>\n",
       "<style scoped>\n",
       "    .dataframe tbody tr th:only-of-type {\n",
       "        vertical-align: middle;\n",
       "    }\n",
       "\n",
       "    .dataframe tbody tr th {\n",
       "        vertical-align: top;\n",
       "    }\n",
       "\n",
       "    .dataframe thead th {\n",
       "        text-align: right;\n",
       "    }\n",
       "</style>\n",
       "<table border=\"1\" class=\"dataframe\">\n",
       "  <thead>\n",
       "    <tr style=\"text-align: right;\">\n",
       "      <th></th>\n",
       "      <th>id</th>\n",
       "      <th>location</th>\n",
       "      <th>text</th>\n",
       "      <th>target</th>\n",
       "    </tr>\n",
       "  </thead>\n",
       "  <tbody>\n",
       "    <tr>\n",
       "      <th>555331</th>\n",
       "      <td>555332</td>\n",
       "      <td>United States of America</td>\n",
       "      <td>RT @outerspacemanII: Coronavirus in the U.S.: ...</td>\n",
       "      <td>1</td>\n",
       "    </tr>\n",
       "    <tr>\n",
       "      <th>72097</th>\n",
       "      <td>72098</td>\n",
       "      <td>Lynnwood, WA</td>\n",
       "      <td>RT @gruber: Geez, I wonder whose tinpot-dictat...</td>\n",
       "      <td>1</td>\n",
       "    </tr>\n",
       "    <tr>\n",
       "      <th>684454</th>\n",
       "      <td>684455</td>\n",
       "      <td>Quarantine zone, PNW</td>\n",
       "      <td>RT @GlennF: No correlation! No correlation!</td>\n",
       "      <td>1</td>\n",
       "    </tr>\n",
       "    <tr>\n",
       "      <th>75005</th>\n",
       "      <td>75006</td>\n",
       "      <td>America</td>\n",
       "      <td>US stocks close mixed as virus drug report off...</td>\n",
       "      <td>1</td>\n",
       "    </tr>\n",
       "    <tr>\n",
       "      <th>473425</th>\n",
       "      <td>473426</td>\n",
       "      <td>Some Oversized Cafe, Somewhere</td>\n",
       "      <td>RT @vexwerewolf: Capitalists need to pay for t...</td>\n",
       "      <td>1</td>\n",
       "    </tr>\n",
       "  </tbody>\n",
       "</table>\n",
       "</div>"
      ],
      "text/plain": [
       "            id                        location  \\\n",
       "555331  555332        United States of America   \n",
       "72097    72098                    Lynnwood, WA   \n",
       "684454  684455            Quarantine zone, PNW   \n",
       "75005    75006                        America    \n",
       "473425  473426  Some Oversized Cafe, Somewhere   \n",
       "\n",
       "                                                     text  target  \n",
       "555331  RT @outerspacemanII: Coronavirus in the U.S.: ...       1  \n",
       "72097   RT @gruber: Geez, I wonder whose tinpot-dictat...       1  \n",
       "684454      RT @GlennF: No correlation! No correlation!         1  \n",
       "75005   US stocks close mixed as virus drug report off...       1  \n",
       "473425  RT @vexwerewolf: Capitalists need to pay for t...       1  "
      ]
     },
     "execution_count": 43,
     "metadata": {},
     "output_type": "execute_result"
    }
   ],
   "source": [
    "pattern = re.compile('http[s]?://(?:[a-zA-Z]|[0-9]|[$-_@.&+]|[!*\\(\\),]|(?:%[0-9a-fA-F][0-9a-fA-F]))+')\n",
    "\n",
    "def remove_url(text):\n",
    "    no_html= pattern.sub('',text)\n",
    "    return no_html\n",
    "\n",
    "# Remove all text that start with http\n",
    "df_balanced.text = df_balanced.text.apply(lambda x: remove_url(x))\n",
    "df_balanced.head()"
   ]
  },
  {
   "cell_type": "code",
   "execution_count": 44,
   "metadata": {},
   "outputs": [
    {
     "name": "stdout",
     "output_type": "stream",
     "text": [
      "Cleaning text...\n"
     ]
    }
   ],
   "source": [
    "# now remove stopwords, change to lowercase\n",
    "\n",
    "def clean_text(text):\n",
    "    text = re.sub('[^a-zA-Z]', ' ', text)\n",
    "    text = text.lower()\n",
    "    # split to array (default delimiter is \" \")\n",
    "    text = text.split()\n",
    "    text = [w for w in text if not w in set(stopwords.words('english'))]\n",
    "    text = ' '.join(text)\n",
    "    return text\n",
    "\n",
    "print(\"Cleaning text...\")\n",
    "df_balanced.text = df_balanced.text.apply(lambda x : clean_text(x))\n"
   ]
  },
  {
   "cell_type": "code",
   "execution_count": 45,
   "metadata": {},
   "outputs": [
    {
     "name": "stdout",
     "output_type": "stream",
     "text": [
      "The len of words is: 170084\n"
     ]
    },
    {
     "data": {
      "text/plain": [
       "[('rt', 276599),\n",
       " ('outerspacemanii', 3),\n",
       " ('coronavirus', 198479),\n",
       " ('u', 23266),\n",
       " ('latest', 6208),\n",
       " ('map', 3700),\n",
       " ('case', 6735),\n",
       " ('count', 1172),\n",
       " ('new', 38000),\n",
       " ('york', 3426)]"
      ]
     },
     "execution_count": 45,
     "metadata": {},
     "output_type": "execute_result"
    }
   ],
   "source": [
    "# How many unique words int this dataset\n",
    "\n",
    "def counter_word(text):\n",
    "    count = Counter()\n",
    "    for i in text.values:\n",
    "        for word in i.split():\n",
    "            count[word] += 1\n",
    "    return count\n",
    "\n",
    "text_values = df_balanced.text\n",
    "counter = counter_word(text_values)\n",
    "print(f\"The len of words is: {len(counter)}\")\n",
    "list(counter.items())[:10]"
   ]
  },
  {
   "cell_type": "code",
   "execution_count": 46,
   "metadata": {},
   "outputs": [
    {
     "data": {
      "text/plain": [
       "540859    rt guardian get trump normalised mayhem us pay...\n",
       "590389                           rt belle gyanna say louder\n",
       "322030    rt new world dogs trained alert covid wonderfu...\n",
       "484262    rt johniadarola new zealand beat covid trustin...\n",
       "Name: text, dtype: object"
      ]
     },
     "execution_count": 46,
     "metadata": {},
     "output_type": "execute_result"
    }
   ],
   "source": [
    "train, test, train_category, test_category = train_test_split(df_balanced.text, df_balanced.target, test_size=0.30, random_state=42)\n",
    "train_category.value_counts()\n",
    "train.head(4)"
   ]
  },
  {
   "cell_type": "code",
   "execution_count": 47,
   "metadata": {},
   "outputs": [
    {
     "data": {
      "text/plain": [
       "0    87122\n",
       "1    86774\n",
       "Name: target, dtype: int64"
      ]
     },
     "execution_count": 47,
     "metadata": {},
     "output_type": "execute_result"
    }
   ],
   "source": [
    "test_category.value_counts()"
   ]
  },
  {
   "cell_type": "code",
   "execution_count": 48,
   "metadata": {},
   "outputs": [
    {
     "name": "stdout",
     "output_type": "stream",
     "text": [
      "The Shape of training  (324604,)\n",
      "The Shape of testing (81152,)\n"
     ]
    }
   ],
   "source": [
    "\n",
    "vocab_size = len(counter)\n",
    "embedding_dim = 32\n",
    "\n",
    "# Max number of words in each complaint\n",
    "max_length = 20\n",
    "trunc_type = 'post'\n",
    "padding_type = 'pre'\n",
    "\n",
    "# oov_took its set for words out our word index\n",
    "oov_tok = \"<XXX>\"\n",
    "training_size = int(len(train) * 0.8)\n",
    "seq_len = 12\n",
    "\n",
    "# based on 80% of the data\n",
    "training_sentences = train[0:training_size]\n",
    "training_labels = train_category[0:training_size]\n",
    "\n",
    "valid_sentences = train[training_size:]\n",
    "valid_labels = train_category[training_size:]\n",
    "\n",
    "print('The Shape of training ',training_sentences.shape)\n",
    "print('The Shape of testing',valid_sentences.shape)"
   ]
  },
  {
   "cell_type": "code",
   "execution_count": 49,
   "metadata": {},
   "outputs": [
    {
     "data": {
      "text/plain": [
       "1    162314\n",
       "0    162290\n",
       "Name: target, dtype: int64"
      ]
     },
     "execution_count": 49,
     "metadata": {},
     "output_type": "execute_result"
    }
   ],
   "source": [
    "training_labels.value_counts()"
   ]
  },
  {
   "cell_type": "code",
   "execution_count": 50,
   "metadata": {},
   "outputs": [
    {
     "data": {
      "text/plain": [
       "1    40738\n",
       "0    40414\n",
       "Name: target, dtype: int64"
      ]
     },
     "execution_count": 50,
     "metadata": {},
     "output_type": "execute_result"
    }
   ],
   "source": [
    "valid_labels.value_counts()"
   ]
  },
  {
   "cell_type": "code",
   "execution_count": 51,
   "metadata": {},
   "outputs": [],
   "source": [
    "tokenizer = Tokenizer(num_words=vocab_size, oov_token=oov_tok)\n",
    "tokenizer.fit_on_texts(training_sentences)\n",
    "word_index = tokenizer.word_index"
   ]
  },
  {
   "cell_type": "code",
   "execution_count": 52,
   "metadata": {},
   "outputs": [
    {
     "name": "stdout",
     "output_type": "stream",
     "text": [
      "THe first word Index are: \n",
      " <XXX>,  1 \n",
      " rt,  2 \n",
      " coronavirus,  3 \n",
      " covid,  4 \n",
      " guardian,  5 \n",
      " trump,  6 \n",
      " us,  7 \n",
      " new,  8 \n",
      " cases,  9 \n",
      " pandemic,  10 \n",
      " china,  11 \n",
      " uk,  12 \n",
      " news,  13 \n",
      " people,  14 \n",
      " says,  15 \n"
     ]
    }
   ],
   "source": [
    "# Lets see the first 10 elements\n",
    "print(\"THe first word Index are: \")\n",
    "for x in list(word_index)[0:15]:\n",
    "    print (\" {},  {} \".format(x,  word_index[x]))"
   ]
  },
  {
   "cell_type": "code",
   "execution_count": 53,
   "metadata": {},
   "outputs": [
    {
     "name": "stdout",
     "output_type": "stream",
     "text": [
      "The shape of training data is:  (324604, 20) 324604\n"
     ]
    }
   ],
   "source": [
    "training_sequences = tokenizer.texts_to_sequences(training_sentences)\n",
    "training_padded = pad_sequences(training_sequences, maxlen=max_length, padding=padding_type, truncating=trunc_type)\n",
    "T = training_padded.shape[0]\n",
    "print(\"The shape of training data is: \",training_padded.shape, T)"
   ]
  },
  {
   "cell_type": "code",
   "execution_count": 54,
   "metadata": {},
   "outputs": [
    {
     "name": "stdout",
     "output_type": "stream",
     "text": [
      "The shape of validation data is:  (81152, 20)\n"
     ]
    }
   ],
   "source": [
    "valid_sequences = tokenizer.texts_to_sequences(valid_sentences)\n",
    "valid_padded = pad_sequences(valid_sequences, maxlen=max_length, padding=padding_type, truncating=trunc_type)\n",
    "print(\"The shape of validation data is: \",valid_padded.shape)"
   ]
  },
  {
   "cell_type": "code",
   "execution_count": 24,
   "metadata": {},
   "outputs": [],
   "source": [
    "import tensorflow_hub as hub\n",
    "import tensorflow_text as text\n",
    "bert_preprocess = hub.KerasLayer(\"https://tfhub.dev/tensorflow/bert_en_uncased_preprocess/3\")\n",
    "bert_encoder = hub.KerasLayer(\"https://tfhub.dev/tensorflow/bert_en_uncased_L-12_H-768_A-12/4\")"
   ]
  },
  {
   "cell_type": "code",
   "execution_count": 71,
   "metadata": {},
   "outputs": [
    {
     "name": "stdout",
     "output_type": "stream",
     "text": [
      "Model: \"model_4\"\n",
      "__________________________________________________________________________________________________\n",
      " Layer (type)                   Output Shape         Param #     Connected to                     \n",
      "==================================================================================================\n",
      " input_9 (InputLayer)           [(None, 20)]         0           []                               \n",
      "                                                                                                  \n",
      " embedding_8 (Embedding)        (None, 20, 32)       5442720     ['input_9[0][0]']                \n",
      "                                                                                                  \n",
      " conv1d_4 (Conv1D)              (None, 18, 100)      9700        ['embedding_8[0][0]']            \n",
      "                                                                                                  \n",
      " max_pooling1d_4 (MaxPooling1D)  (None, 9, 100)      0           ['conv1d_4[0][0]']               \n",
      "                                                                                                  \n",
      " flatten_4 (Flatten)            (None, 900)          0           ['max_pooling1d_4[0][0]']        \n",
      "                                                                                                  \n",
      " dropout_12 (Dropout)           (None, 900)          0           ['flatten_4[0][0]']              \n",
      "                                                                                                  \n",
      " input_10 (InputLayer)          [(None, 20)]         0           []                               \n",
      "                                                                                                  \n",
      " dense_19 (Dense)               (None, 40)           36040       ['dropout_12[0][0]']             \n",
      "                                                                                                  \n",
      " embedding_9 (Embedding)        (None, 20, 32)       5442720     ['input_10[0][0]']               \n",
      "                                                                                                  \n",
      " dense_20 (Dense)               (None, 10)           410         ['dense_19[0][0]']               \n",
      "                                                                                                  \n",
      " bidirectional_4 (Bidirectional  (None, 128)         37632       ['embedding_9[0][0]']            \n",
      " )                                                                                                \n",
      "                                                                                                  \n",
      " dropout_13 (Dropout)           (None, 10)           0           ['dense_20[0][0]']               \n",
      "                                                                                                  \n",
      " dropout_14 (Dropout)           (None, 128)          0           ['bidirectional_4[0][0]']        \n",
      "                                                                                                  \n",
      " dense_21 (Dense)               (None, 1)            11          ['dropout_13[0][0]']             \n",
      "                                                                                                  \n",
      " dense_22 (Dense)               (None, 1)            129         ['dropout_14[0][0]']             \n",
      "                                                                                                  \n",
      " concatenate_4 (Concatenate)    (None, 2)            0           ['dense_21[0][0]',               \n",
      "                                                                  'dense_22[0][0]']               \n",
      "                                                                                                  \n",
      " dense_23 (Dense)               (None, 1)            3           ['concatenate_4[0][0]']          \n",
      "                                                                                                  \n",
      "==================================================================================================\n",
      "Total params: 10,969,365\n",
      "Trainable params: 10,969,365\n",
      "Non-trainable params: 0\n",
      "__________________________________________________________________________________________________\n"
     ]
    }
   ],
   "source": [
    "#Model Definition with LSTM\n",
    "\n",
    "# model = tf.keras.models.Sequential([\n",
    "#     tf.keras.layers.Embedding(vocab_size+1, embedding_dim, input_length=max_length),\n",
    "#     tf.keras.layers.LSTM(64, return_sequences=True),\n",
    "#     tf.keras.layers.LSTM(64),\n",
    "#     tf.keras.layers.Dense(32, activation='relu'),\n",
    "#     tf.keras.layers.Dense(1, activation='sigmoid') # binary classification\n",
    "# ])\n",
    "\n",
    "\n",
    "# #using BERT\n",
    "# text_input = tf.keras.layers.Input(shape=(), dtype=tf.string, name='text')\n",
    "# preprocessed_text = bert_preprocess(text_input)\n",
    "# outputs = bert_encoder(preprocessed_text)\n",
    "\n",
    "# # Neural network layers\n",
    "# l = tf.keras.layers.Dropout(0.1, name=\"dropout\")(outputs['pooled_output'])\n",
    "# l = tf.keras.layers.Dense(1, activation='sigmoid', name=\"output\")(l)\n",
    "\n",
    "# # Use inputs and outputs to construct a final model\n",
    "# model = tf.keras.Model(inputs=[text_input], outputs = [l])\n",
    "\n",
    "\n",
    "\n",
    "# ##working model\n",
    "# i = tf.keras.layers.Input(shape=(max_length,))\n",
    "# x= tf.keras.layers.Embedding(vocab_size+1, embedding_dim)(i)\n",
    "# x = tf.keras.layers.Bidirectional(tf.keras.layers.LSTM(64, return_sequences=True))(x)\n",
    "# x = tf.keras.layers.Dropout(0.05)(x)    #optional might be better to use dropout\n",
    "# x = tf.keras.layers.GlobalMaxPooling1D()(x)\n",
    "# x = tf.keras.layers.Dense(1, activation='sigmoid')(x)\n",
    "\n",
    "\n",
    "#Ensemble CNN-GRU\n",
    "def ensemble_CNN_BiGRU(filters = 100, kernel_size = 3, activation='relu', max_length = max_length):\n",
    "  \n",
    "    # Channel 1D CNN\n",
    "    input1 = tf.keras.layers.Input(shape=(max_length,))\n",
    "    embeddding1 = tf.keras.layers.Embedding(vocab_size+1, embedding_dim)(input1)\n",
    "    conv1 = tf.keras.layers.Conv1D(filters=filters, kernel_size=kernel_size, activation='relu', \n",
    "                   kernel_constraint= tf.keras.constraints.MaxNorm( max_value=3, axis=[0,1]))(embeddding1)\n",
    "    pool1 = tf.keras.layers.MaxPool1D(pool_size=2, strides=2)(conv1)\n",
    "    flat1 = tf.keras.layers.Flatten()(pool1)\n",
    "    drop1 = tf.keras.layers.Dropout(0.25)(flat1)\n",
    "    dense1 = tf.keras.layers.Dense(40, activation='relu')(drop1)\n",
    "    dense1 = tf.keras.layers.Dense(10, activation='relu')(dense1)\n",
    "    drop1 = tf.keras.layers.Dropout(0.25)(dense1)\n",
    "    out1 = tf.keras.layers.Dense(1, activation='sigmoid')(drop1)\n",
    "    \n",
    "    # Channel BiGRU\n",
    "    input2 = tf.keras.layers.Input(shape=(max_length,))\n",
    "    embeddding2 = tf.keras.layers.Embedding(vocab_size+1, embedding_dim, mask_zero=True)(input2)\n",
    "    gru2 = tf.keras.layers.Bidirectional(tf.keras.layers.GRU(64))(embeddding2)\n",
    "    drop2 = tf.keras.layers.Dropout(0.25)(gru2)\n",
    "    out2 = tf.keras.layers.Dense(1, activation='sigmoid')(drop2)\n",
    "    \n",
    "    merged = tf.keras.layers.concatenate([out1, out2])\n",
    "    \n",
    "    outputs = tf.keras.layers.Dense(1, activation='sigmoid')(merged)\n",
    "    model = tf.keras.models.Model(inputs=[input1, input2], outputs=outputs)\n",
    "    \n",
    "    model.compile( loss='binary_crossentropy', optimizer='adam', metrics=['accuracy'])\n",
    "    \n",
    "    return model\n",
    "\n",
    "\n",
    "model = ensemble_CNN_BiGRU()\n",
    "\n",
    "#CNN with better config\n",
    "# i = tf.keras.layers.Input(shape=(max_length,))\n",
    "# x = tf.keras.layers.Embedding(vocab_size+1, embedding_dim)(i)\n",
    "# x = tf.keras.layers.Conv1D(32, 3, activation='relu')(x)\n",
    "# x = tf.keras.layers.BatchNormalization()(x)\n",
    "# x = tf.keras.layers.Dropout(0.20)(x)\n",
    "# x = tf.keras.layers.MaxPooling1D(3)(x)\n",
    "# x = tf.keras.layers.Conv1D(64, 3, activation='relu')(x)\n",
    "# x = tf.keras.layers.BatchNormalization()(x)\n",
    "# x = tf.keras.layers.Dropout(0.20)(x)\n",
    "# x = tf.keras.layers.Conv1D(128, 3, activation='relu')(x)\n",
    "# x = tf.keras.layers.BatchNormalization()(x)\n",
    "# x = tf.keras.layers.Dropout(0.20)(x)\n",
    "# x = tf.keras.layers.GlobalMaxPooling1D()(x)\n",
    "# x = tf.keras.layers.Dense(1, activation='sigmoid')(x)\n",
    "\n",
    "# model = tf.keras.models.Model(inputs=i, outputs=x)\n",
    "\n",
    "# model.compile(tf.keras.optimizers.Adam(learning_rate=0.001), loss= 'binary_crossentropy' , metrics=['accuracy'])\n",
    "model.summary()"
   ]
  },
  {
   "cell_type": "code",
   "execution_count": 72,
   "metadata": {},
   "outputs": [
    {
     "data": {
      "image/png": "[encoded data removed]",
      "text/plain": [
       "<IPython.core.display.Image object>"
      ]
     },
     "execution_count": 72,
     "metadata": {},
     "output_type": "execute_result"
    }
   ],
   "source": [
    "from tensorflow.keras.utils import plot_model\n",
    "plot_model(model, to_file='model_plot4a.png', show_shapes=True, show_layer_names=True, rankdir='LR', dpi=100)"
   ]
  },
  {
   "cell_type": "code",
   "execution_count": 73,
   "metadata": {},
   "outputs": [
    {
     "name": "stdout",
     "output_type": "stream",
     "text": [
      "Epoch 1/2\n",
      "32461/32461 [==============================] - 2369s 73ms/step - loss: 0.2520 - accuracy: 0.8983 - val_loss: 0.1868 - val_accuracy: 0.9186\n",
      "Epoch 2/2\n",
      "32461/32461 [==============================] - 2469s 76ms/step - loss: 0.1319 - accuracy: 0.9472 - val_loss: 0.1800 - val_accuracy: 0.9223\n"
     ]
    }
   ],
   "source": [
    "num_epochs = 2\n",
    "history = model.fit([training_padded, training_padded], training_labels,batch_size =10,  epochs=num_epochs, validation_data=([valid_padded, valid_padded], valid_labels))\n"
   ]
  },
  {
   "cell_type": "code",
   "execution_count": 74,
   "metadata": {},
   "outputs": [
    {
     "data": {
      "text/plain": [
       "<AxesSubplot:>"
      ]
     },
     "execution_count": 74,
     "metadata": {},
     "output_type": "execute_result"
    },
    {
     "data": {
      "image/png": "[encoded data removed]",
      "text/plain": [
       "<Figure size 432x288 with 1 Axes>"
      ]
     },
     "metadata": {
      "needs_background": "light"
     },
     "output_type": "display_data"
    }
   ],
   "source": [
    "model_loss = pd.DataFrame(model.history.history)\n",
    "model_loss.plot()"
   ]
  },
  {
   "cell_type": "code",
   "execution_count": 75,
   "metadata": {},
   "outputs": [
    {
     "data": {
      "text/plain": [
       "<AxesSubplot:>"
      ]
     },
     "execution_count": 75,
     "metadata": {},
     "output_type": "execute_result"
    },
    {
     "data": {
      "image/png": "[encoded data removed]",
      "text/plain": [
       "<Figure size 432x288 with 1 Axes>"
      ]
     },
     "metadata": {
      "needs_background": "light"
     },
     "output_type": "display_data"
    }
   ],
   "source": [
    "model_loss[['accuracy','val_accuracy']].plot(ylim=[0,1])"
   ]
  },
  {
   "cell_type": "code",
   "execution_count": 76,
   "metadata": {},
   "outputs": [
    {
     "data": {
      "text/plain": [
       "array([[0],\n",
       "       [0],\n",
       "       [0],\n",
       "       ...,\n",
       "       [0],\n",
       "       [1],\n",
       "       [1]])"
      ]
     },
     "execution_count": 76,
     "metadata": {},
     "output_type": "execute_result"
    }
   ],
   "source": [
    "predictions = (model.predict([valid_padded,valid_padded]) > 0.5).astype(\"int32\")\n",
    "predictions"
   ]
  },
  {
   "cell_type": "code",
   "execution_count": 77,
   "metadata": {},
   "outputs": [
    {
     "data": {
      "image/png": "[encoded data removed]",
      "text/plain": [
       "<Figure size 504x504 with 2 Axes>"
      ]
     },
     "metadata": {
      "needs_background": "light"
     },
     "output_type": "display_data"
    }
   ],
   "source": [
    "from sklearn.metrics import classification_report, confusion_matrix\n",
    "\n",
    "# Showing Confusion Matrix\n",
    "def plot_cm(y_true, y_pred, title, figsize=(5,4)):\n",
    "    cm = confusion_matrix(y_true, y_pred, labels=np.unique(y_true))\n",
    "    cm_sum = np.sum(cm, axis=1, keepdims=True)\n",
    "    cm_perc = cm / cm_sum.astype(float) * 100\n",
    "    annot = np.empty_like(cm).astype(str)\n",
    "    nrows, ncols = cm.shape\n",
    "    for i in range(nrows):\n",
    "        for j in range(ncols):\n",
    "            c = cm[i, j]\n",
    "            p = cm_perc[i, j]\n",
    "            if i == j:\n",
    "                s = cm_sum[i]\n",
    "                annot[i, j] = '%.1f%%\\n%d/%d' % (p, c, s)\n",
    "            elif c == 0:\n",
    "                annot[i, j] = ''\n",
    "            else:\n",
    "                annot[i, j] = '%.1f%%\\n%d' % (p, c)\n",
    "    cm = pd.DataFrame(cm, index=np.unique(y_true), columns=np.unique(y_true))\n",
    "    cm.index.name = 'Actual'\n",
    "    cm.columns.name = 'Predicted'\n",
    "    fig, ax = plt.subplots(figsize=figsize)\n",
    "    plt.title(title)\n",
    "    sns.heatmap(cm, cmap= \"YlGnBu\", annot=annot, fmt='', ax=ax)\n",
    "    \n",
    "# Showing Confusion Matrix\n",
    "plot_cm(valid_labels,predictions, 'Confusion matrix of Validation Dataset', figsize=(7,7))"
   ]
  },
  {
   "cell_type": "code",
   "execution_count": 79,
   "metadata": {},
   "outputs": [
    {
     "data": {
      "text/plain": [
       "array([[1],\n",
       "       [1],\n",
       "       [1],\n",
       "       ...,\n",
       "       [0],\n",
       "       [0],\n",
       "       [1]])"
      ]
     },
     "execution_count": 79,
     "metadata": {},
     "output_type": "execute_result"
    }
   ],
   "source": [
    "testing_sequences = tokenizer.texts_to_sequences(test)\n",
    "testing_padded = pad_sequences(testing_sequences, maxlen=max_length, padding=padding_type, truncating=trunc_type)\n",
    "predictions = (model.predict([testing_padded,testing_padded]) > 0.5).astype(\"int32\")\n",
    "\n",
    "predictions\n"
   ]
  },
  {
   "cell_type": "code",
   "execution_count": 81,
   "metadata": {},
   "outputs": [
    {
     "data": {
      "text/plain": [
       "(173896, 20)"
      ]
     },
     "execution_count": 81,
     "metadata": {},
     "output_type": "execute_result"
    }
   ],
   "source": [
    "testing_padded.shape"
   ]
  },
  {
   "cell_type": "code",
   "execution_count": 80,
   "metadata": {},
   "outputs": [
    {
     "data": {
      "image/png": "[encoded data removed]",
      "text/plain": [
       "<Figure size 504x504 with 2 Axes>"
      ]
     },
     "metadata": {
      "needs_background": "light"
     },
     "output_type": "display_data"
    }
   ],
   "source": [
    "# Showing Confusion Matrix\n",
    "plot_cm(test_category,predictions, 'Confusion matrix of Test Dataset', figsize=(7,7))"
   ]
  },
  {
   "cell_type": "code",
   "execution_count": 71,
   "metadata": {},
   "outputs": [
    {
     "name": "stderr",
     "output_type": "stream",
     "text": [
      "2022-04-12 17:04:50.781586: W tensorflow/python/util/util.cc:368] Sets are not currently considered sequences, but this may change in the future, so consider avoiding using them.\n"
     ]
    },
    {
     "name": "stdout",
     "output_type": "stream",
     "text": [
      "INFO:tensorflow:Assets written to: models/Bi-LSTM (04-12-22)/assets\n"
     ]
    },
    {
     "name": "stderr",
     "output_type": "stream",
     "text": [
      "INFO:tensorflow:Assets written to: models/Bi-LSTM (04-12-22)/assets\n"
     ]
    }
   ],
   "source": [
    "model.save(f\"models/Bi-LSTM ({date.today().strftime('%m-%d-%y')})\")"
   ]
  },
  {
   "cell_type": "code",
   "execution_count": null,
   "metadata": {},
   "outputs": [],
   "source": []
  }
 ],
 "metadata": {
  "interpreter": {
   "hash": "ac59ebe37160ed0dfa835113d9b8498d9f09ceb179beaac4002f036b9467c963"
  },
  "kernelspec": {
   "display_name": "Python 3 (ipykernel)",
   "language": "python",
   "name": "python3"
  },
  "language_info": {
   "codemirror_mode": {
    "name": "ipython",
    "version": 3
   },
   "file_extension": ".py",
   "mimetype": "text/x-python",
   "name": "python",
   "nbconvert_exporter": "python",
   "pygments_lexer": "ipython3",
   "version": "3.9.11"
  }
 },
 "nbformat": 4,
 "nbformat_minor": 4
}
